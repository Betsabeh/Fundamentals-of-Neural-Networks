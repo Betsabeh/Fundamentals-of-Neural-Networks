{
  "nbformat": 4,
  "nbformat_minor": 0,
  "metadata": {
    "colab": {
      "provenance": [],
      "authorship_tag": "ABX9TyNm4vp4pF7jKbyn6gWv1PLz",
      "include_colab_link": true
    },
    "kernelspec": {
      "name": "python3",
      "display_name": "Python 3"
    },
    "language_info": {
      "name": "python"
    }
  },
  "cells": [
    {
      "cell_type": "markdown",
      "metadata": {
        "id": "view-in-github",
        "colab_type": "text"
      },
      "source": [
        "<a href=\"https://colab.research.google.com/github/Betsabeh/Fundamentals-of-Neural-Networks/blob/main/simple_NN_example.ipynb\" target=\"_parent\"><img src=\"https://colab.research.google.com/assets/colab-badge.svg\" alt=\"Open In Colab\"/></a>"
      ]
    },
    {
      "cell_type": "code",
      "execution_count": 1,
      "metadata": {
        "colab": {
          "base_uri": "https://localhost:8080/"
        },
        "id": "d-k2vcS6SnVh",
        "outputId": "fd2cc7d6-0fe0-4ce0-d216-089222d06427"
      },
      "outputs": [
        {
          "output_type": "stream",
          "name": "stdout",
          "text": [
            "Epoch 1 - errors: 2\n",
            "Epoch 2 - errors: 2\n",
            "Epoch 3 - errors: 2\n",
            "Epoch 4 - errors: 2\n",
            "Epoch 5 - errors: 2\n",
            "Epoch 6 - errors: 2\n",
            "Epoch 7 - errors: 2\n",
            "Epoch 8 - errors: 4\n",
            "Epoch 9 - errors: 3\n",
            "Epoch 10 - errors: 3\n",
            "Epoch 11 - errors: 4\n",
            "Epoch 12 - errors: 3\n",
            "Epoch 13 - errors: 3\n",
            "Epoch 14 - errors: 3\n",
            "Epoch 15 - errors: 3\n",
            "Epoch 16 - errors: 3\n",
            "Epoch 17 - errors: 3\n",
            "Epoch 18 - errors: 3\n",
            "Epoch 19 - errors: 2\n",
            "Epoch 20 - errors: 2\n",
            "Epoch 21 - errors: 2\n",
            "Epoch 22 - errors: 2\n",
            "Epoch 23 - errors: 2\n",
            "Epoch 24 - errors: 2\n",
            "Epoch 25 - errors: 2\n",
            "Epoch 26 - errors: 2\n",
            "Epoch 27 - errors: 2\n",
            "Epoch 28 - errors: 2\n",
            "Epoch 29 - errors: 2\n",
            "Epoch 30 - errors: 2\n",
            "Epoch 31 - errors: 2\n",
            "Epoch 32 - errors: 2\n",
            "Epoch 33 - errors: 2\n",
            "Epoch 34 - errors: 2\n",
            "Epoch 35 - errors: 2\n",
            "Epoch 36 - errors: 2\n",
            "Epoch 37 - errors: 2\n",
            "Epoch 38 - errors: 2\n",
            "Epoch 39 - errors: 2\n",
            "Epoch 40 - errors: 2\n",
            "Epoch 41 - errors: 2\n",
            "Epoch 42 - errors: 2\n",
            "Epoch 43 - errors: 2\n",
            "Epoch 44 - errors: 2\n",
            "Epoch 45 - errors: 2\n",
            "Epoch 46 - errors: 2\n",
            "Epoch 47 - errors: 2\n",
            "Epoch 48 - errors: 2\n",
            "Epoch 49 - errors: 2\n",
            "Epoch 50 - errors: 2\n",
            "\n",
            "Test Results:\n",
            "Input: [0 1 0 1 0 1 1 0 1] -> Predicted: 0, Actual: 0, Correct\n",
            "Input: [1 1 0 1 1 1 1 1 0] -> Predicted: 1, Actual: 1, Correct\n"
          ]
        }
      ],
      "source": [
        "import numpy as np\n",
        "\n",
        "# تعریف داده‌های آموزشی\n",
        "A_train = [\n",
        "    [0,1,0, 1,0,1, 1,1,1],\n",
        "    [0,1,0, 1,1,1, 1,0,1],\n",
        "    [0,1,0, 1,0,1, 1,1,0],\n",
        "    [0,1,0, 1,1,0, 1,1,1],\n",
        "    [0,1,0, 0,1,1, 1,1,1],\n",
        "    [1,1,0, 1,0,1, 1,1,1],\n",
        "]\n",
        "\n",
        "B_train = [\n",
        "    [1,1,0, 1,0,1, 1,1,0],\n",
        "    [1,1,1, 1,0,1, 1,1,0],\n",
        "    [1,1,0, 1,0,1, 1,1,1],\n",
        "    [1,1,1, 1,1,0, 1,1,0],\n",
        "    [1,1,0, 1,1,1, 1,1,0],\n",
        "    [1,1,1, 1,0,1, 1,0,1],\n",
        "]\n",
        "\n",
        "# تبدیل به آرایه numpy و برچسب‌ها\n",
        "X_train = np.array(A_train + B_train)\n",
        "d_train = np.array([0]*len(A_train) + [1]*len(B_train))\n",
        "\n",
        "# تعریف داده‌های تست\n",
        "A_test = np.array([0,1,0, 1,0,1, 1,0,1])  # کلاس 0\n",
        "B_test = np.array([1,1,0, 1,1,1, 1,1,0])  # کلاس 1\n",
        "\n",
        "X_test = np.array([A_test, B_test])\n",
        "d_test = np.array([0, 1])\n",
        "\n",
        "# پارامترها\n",
        "w = np.zeros(X_train.shape[1])\n",
        "b = 0\n",
        "eta = 0.1\n",
        "epochs = 50\n",
        "\n",
        "def step(x):\n",
        "    return 1 if x >= 0 else 0\n",
        "\n",
        "# آموزش پرسپترون\n",
        "for epoch in range(epochs):\n",
        "    errors = 0\n",
        "    for xi, di in zip(X_train, d_train):\n",
        "        z = np.dot(w, xi) + b\n",
        "        y = step(z)\n",
        "        e = di - y\n",
        "        if e != 0:\n",
        "            errors += 1\n",
        "            w += eta * e * xi\n",
        "            b += eta * e\n",
        "    print(f\"Epoch {epoch+1} - errors: {errors}\")\n",
        "    if errors == 0:\n",
        "        print(\"Training converged.\")\n",
        "        break\n",
        "\n",
        "# تست مدل\n",
        "print(\"\\nTest Results:\")\n",
        "for xi, label in zip(X_test, d_test):\n",
        "    z = np.dot(w, xi) + b\n",
        "    pred = step(z)\n",
        "    print(f\"Input: {xi} -> Predicted: {pred}, Actual: {label}, {'Correct' if pred == label else 'Wrong'}\")"
      ]
    }
  ]
}